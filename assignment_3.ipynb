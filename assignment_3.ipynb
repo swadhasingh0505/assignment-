{
 "cells": [
  {
   "cell_type": "markdown",
   "id": "4e96153a",
   "metadata": {},
   "source": [
    "# Python Assignment - 3\n",
    "### Carries - 30 marks"
   ]
  },
  {
   "cell_type": "markdown",
   "id": "b5bc6391",
   "metadata": {},
   "source": [
    "## What is File function in python? What is keywords to create and write file. "
   ]
  },
  {
   "cell_type": "code",
   "execution_count": 1,
   "id": "ca9fcb29",
   "metadata": {},
   "outputs": [],
   "source": [
    "#The open() function in Python is used for file operations. It allows you to create, open, and manipulate files. You can specify the mode ('r' for reading, 'w' for writing, 'a' for appending, and more) when opening a file. After opening, you can use methods like read(), write(), and close() to interact with the file's content. Proper file handling, including closing the file, is essential to ensure data integrity and efficient resource usage. The with statement is often recommended for file operations as it automatically manages resource cleanup when the block exits."
   ]
  },
  {
   "cell_type": "markdown",
   "id": "77e6fcc1",
   "metadata": {},
   "source": [
    "#### Create and write a  file"
   ]
  },
  {
   "cell_type": "code",
   "execution_count": 2,
   "id": "10cffab9",
   "metadata": {},
   "outputs": [
    {
     "name": "stdout",
     "output_type": "stream",
     "text": [
      "File 'my_file.txt' has been created and written to.\n"
     ]
    }
   ],
   "source": [
    "file_path = \"my_file.txt\"\n",
    "text_to_write = \"Hello, writing to the file.\"\n",
    "\n",
    "try:\n",
    "    with open(file_path, \"w\") as file:\n",
    "        file.write(text_to_write)\n",
    "\n",
    "    print(f\"File '{file_path}' has been created and written to.\")\n",
    "\n",
    "except Exception as e:\n",
    "    print(f\"An error occurred: {e}\")"
   ]
  },
  {
   "cell_type": "markdown",
   "id": "ee678cfd",
   "metadata": {},
   "source": [
    "## Write a Python program to read an entire text file. "
   ]
  },
  {
   "cell_type": "code",
   "execution_count": 4,
   "id": "cdf7ae1a",
   "metadata": {},
   "outputs": [
    {
     "name": "stdout",
     "output_type": "stream",
     "text": [
      "this is a text file.\n"
     ]
    }
   ],
   "source": [
    "file_path = \"./test.txt\"\n",
    "\n",
    "try:\n",
    "    with open(file_path, \"r\") as file:\n",
    "        file_content = file.read()\n",
    "        print(file_content)\n",
    "\n",
    "except FileNotFoundError:\n",
    "    print(f\"File '{file_path}' not found.\")\n",
    "except Exception as e:\n",
    "    print(f\"An error occurred: {e}\")"
   ]
  },
  {
   "cell_type": "markdown",
   "id": "dd46afa5",
   "metadata": {},
   "source": [
    "## Write a Python program to append text to a file and display the text."
   ]
  },
  {
   "cell_type": "code",
   "execution_count": 5,
   "id": "c80ebe1f",
   "metadata": {},
   "outputs": [
    {
     "name": "stdout",
     "output_type": "stream",
     "text": [
      "Updated File Contents:\n",
      "this is a text file.This is some additional text.\n",
      "\n"
     ]
    }
   ],
   "source": [
    "file_path =  \"./test.txt\"\n",
    "text_to_append = \"This is some additional text.\"\n",
    "\n",
    "try:\n",
    "    with open(file_path, \"a\") as file:\n",
    "        file.write(text_to_append + \"\\n\")\n",
    "    \n",
    "    with open(file_path, \"r\") as file:\n",
    "        file_content = file.read()\n",
    "        print(\"Updated File Contents:\")\n",
    "        print(file_content)\n",
    "\n",
    "except FileNotFoundError:\n",
    "    print(f\"File '{file_path}' not found.\")\n",
    "except Exception as e:\n",
    "    print(f\"An error occurred: {e}\")"
   ]
  },
  {
   "cell_type": "markdown",
   "id": "52316493",
   "metadata": {},
   "source": [
    "## Write a Python program to read first n lines of a file. "
   ]
  },
  {
   "cell_type": "code",
   "execution_count": 7,
   "id": "23617604",
   "metadata": {},
   "outputs": [
    {
     "name": "stdout",
     "output_type": "stream",
     "text": [
      "First 1 lines of the file:\n",
      "this is a text file.This is some additional text.\n"
     ]
    }
   ],
   "source": [
    "file_path =  \"./test.txt\" \n",
    "n = 1 \n",
    "\n",
    "try:\n",
    "    with open(file_path, \"r\") as file:\n",
    "        lines = [next(file) for _ in range(n)]\n",
    "\n",
    "    print(f\"First {n} lines of the file:\")\n",
    "    for line in lines:\n",
    "        print(line, end=\"\")\n",
    "\n",
    "except FileNotFoundError:\n",
    "    print(f\"File '{file_path}' not found.\")\n",
    "except StopIteration:\n",
    "    print(f\"The file contains fewer than {n} lines.\")\n",
    "except Exception as e:\n",
    "    print(f\"An error occurred: {e}\")"
   ]
  },
  {
   "cell_type": "markdown",
   "id": "45dba4dc",
   "metadata": {},
   "source": [
    "## Write a Python program to read last n lines of a file. "
   ]
  },
  {
   "cell_type": "code",
   "execution_count": 8,
   "id": "d36a72b0",
   "metadata": {},
   "outputs": [
    {
     "name": "stdout",
     "output_type": "stream",
     "text": [
      "Last 5 Lines of the File:\n",
      "this is a text file.This is some additional text.\n"
     ]
    }
   ],
   "source": [
    "file_path = \"./test.txt\"  \n",
    "n = 5  \n",
    "\n",
    "try:\n",
    "    with open(file_path, \"r\") as file:\n",
    "        lines = file.readlines()\n",
    "        total_lines = len(lines)\n",
    "        \n",
    "        if total_lines >= n:\n",
    "            last_n_lines = lines[-n:]\n",
    "        else:\n",
    "            last_n_lines = lines\n",
    "        \n",
    "        print(f\"Last {n} Lines of the File:\")\n",
    "        for line in last_n_lines:\n",
    "            print(line.strip())  \n",
    "        \n",
    "except FileNotFoundError:\n",
    "    print(f\"File '{file_path}' not found.\")\n",
    "except Exception as e:\n",
    "    print(f\"An error occurred: {e}\")"
   ]
  },
  {
   "cell_type": "markdown",
   "id": "76a74d09",
   "metadata": {},
   "source": [
    "## Write a Python program to read a file line by line and store it into a list"
   ]
  },
  {
   "cell_type": "code",
   "execution_count": 9,
   "id": "3ea8e4e4",
   "metadata": {},
   "outputs": [
    {
     "name": "stdout",
     "output_type": "stream",
     "text": [
      "Lines from the File:\n",
      "this is a text file.This is some additional text.\n"
     ]
    }
   ],
   "source": [
    "file_path = \"./test.txt\"\n",
    "\n",
    "try:\n",
    "    with open(file_path, \"r\") as file:\n",
    "        lines = file.readlines()\n",
    "\n",
    "    lines = [line.strip() for line in lines]\n",
    "\n",
    "    print(\"Lines from the File:\")\n",
    "    for line in lines:\n",
    "        print(line)\n",
    "\n",
    "except FileNotFoundError:\n",
    "    print(f\"File '{file_path}' not found.\")\n",
    "except Exception as e:\n",
    "    print(f\"An error occurred: {e}\")"
   ]
  },
  {
   "cell_type": "markdown",
   "id": "589e624c",
   "metadata": {},
   "source": [
    "## Write a Python program to read a file line by line store it into a variable."
   ]
  },
  {
   "cell_type": "code",
   "execution_count": 10,
   "id": "9a6f1553",
   "metadata": {},
   "outputs": [
    {
     "name": "stdout",
     "output_type": "stream",
     "text": [
      "File Contents Stored in a Variable:\n",
      "this is a text file.This is some additional text.\n",
      "\n"
     ]
    }
   ],
   "source": [
    "file_path = \"./test.txt\"  \n",
    "\n",
    "try:\n",
    "    with open(file_path, \"r\") as file:\n",
    "        file_content = \"\"\n",
    "        for line in file:\n",
    "            file_content += line  \n",
    "        \n",
    "        print(\"File Contents Stored in a Variable:\")\n",
    "        print(file_content)\n",
    "\n",
    "except FileNotFoundError:\n",
    "    print(f\"File '{file_path}' not found.\")\n",
    "except Exception as e:\n",
    "    print(f\"An error occurred: {e}\")"
   ]
  },
  {
   "cell_type": "markdown",
   "id": "c5a5e0a9",
   "metadata": {},
   "source": [
    "## Write a Python program to copy the contents of a file to another file. "
   ]
  },
  {
   "cell_type": "code",
   "execution_count": 11,
   "id": "d47a46fb",
   "metadata": {},
   "outputs": [
    {
     "name": "stdout",
     "output_type": "stream",
     "text": [
      "Content from './test.txt' copied to './destination.txt'.\n"
     ]
    }
   ],
   "source": [
    "source_file_path = \"./test.txt\"\n",
    "destination_file_path = \"./destination.txt\"\n",
    "\n",
    "try:\n",
    "    with open(source_file_path, \"r\") as source_file:\n",
    "        file_content = source_file.read()\n",
    "        \n",
    "    with open(destination_file_path, \"w\") as destination_file:\n",
    "        destination_file.write(file_content)\n",
    "    \n",
    "    print(f\"Content from '{source_file_path}' copied to '{destination_file_path}'.\")\n",
    "\n",
    "except FileNotFoundError:\n",
    "    print(f\"One of the files not found.\")\n",
    "except Exception as e:\n",
    "    print(f\"An error occurred: {e}\")"
   ]
  },
  {
   "cell_type": "markdown",
   "id": "056551f3",
   "metadata": {},
   "source": [
    "## Write python program that user to enter only odd numbers, else will raise an exception"
   ]
  },
  {
   "cell_type": "code",
   "execution_count": 12,
   "id": "e2ef3212",
   "metadata": {},
   "outputs": [
    {
     "name": "stdout",
     "output_type": "stream",
     "text": [
      "Enter an odd number: 20\n",
      "Even number entered. Please enter an odd number.\n"
     ]
    }
   ],
   "source": [
    "try:\n",
    "    while True:\n",
    "        user_input = int(input(\"Enter an odd number: \"))\n",
    "        if user_input % 2 == 0:\n",
    "            raise ValueError(\"Even number entered. Please enter an odd number.\")\n",
    "        else:\n",
    "            print(f\"You entered an odd number: {user_input}\")\n",
    "            break\n",
    "\n",
    "except ValueError as ve:\n",
    "    print(ve)\n",
    "except KeyboardInterrupt:\n",
    "    print(\"\\nProgram terminated by the user.\")\n",
    "except Exception as e:\n",
    "    print(f\"An error occurred: {e}\")"
   ]
  },
  {
   "cell_type": "markdown",
   "id": "165279e1",
   "metadata": {},
   "source": [
    "## Can one block of except statements handle multiple exception? "
   ]
  },
  {
   "cell_type": "code",
   "execution_count": null,
   "id": "9cc304cc",
   "metadata": {},
   "outputs": [],
   "source": [
    "# Yes, we can use a single except block to handle multiple exceptions in Python. Here is an example below :-\n",
    "    try:\n",
    "    result = 10 / 0\n",
    "\n",
    "except (ZeroDivisionError, ValueError) as e:\n",
    "    print(f\"An exception occurred: {e}\")\n",
    "\n",
    "except FileNotFoundError as e:\n",
    "    print(f\"File not found: {e}\")\n",
    "\n",
    "except Exception as e:\n",
    "    print(f\"An error occurred: {e}\")"
   ]
  },
  {
   "cell_type": "markdown",
   "id": "759b2c5f",
   "metadata": {},
   "source": [
    "## Explain Exception handling? What is an Error in Python?\n"
   ]
  },
  {
   "cell_type": "code",
   "execution_count": null,
   "id": "555171f7",
   "metadata": {},
   "outputs": [],
   "source": [
    "#Exception handling in Python allows us to gracefully handle errors and unexpected situations in our code. When an exception occurs, it doesn't crash the program but instead provides a mechanism to catch and manage the error. We can use try, except, and finally blocks to handle exceptions, ensuring our program can recover from errors and continue executing without interruption. \n",
    "#In Python, an error, often referred to as an \"exception,\" is a condition that disrupts the normal flow of a program. Errors can occur due to various reasons, such as incorrect syntax (SyntaxError), runtime issues (e.g., ZeroDivisionError), or custom exceptions raised by the program. Exception handling is used to handle and recover from these errors to prevent program crashes and maintain robustness."
   ]
  },
  {
   "cell_type": "markdown",
   "id": "503ae851",
   "metadata": {},
   "source": [
    "## Write a Python program to count the number of lines in a text file. "
   ]
  },
  {
   "cell_type": "code",
   "execution_count": null,
   "id": "9b708d8d",
   "metadata": {},
   "outputs": [],
   "source": [
    "file_path = \"./test.txt\"\n",
    "\n",
    "try:\n",
    "    with open(file_path, \"r\") as file:\n",
    "        line_count = sum(1 for line in file)\n",
    "    \n",
    "    print(f\"Number of lines in the file: {line_count}\")\n",
    "\n",
    "except FileNotFoundError:\n",
    "    print(f\"File '{file_path}' not found.\")\n",
    "except Exception as e:\n",
    "    print(f\"An error occurred: {e}\")"
   ]
  },
  {
   "cell_type": "markdown",
   "id": "7dd706b2",
   "metadata": {},
   "source": [
    "## Write a Python program to write a list to a file. "
   ]
  },
  {
   "cell_type": "code",
   "execution_count": null,
   "id": "ab86375f",
   "metadata": {},
   "outputs": [],
   "source": [
    "file_path = \"./test.txt\"\n",
    "fruit_list = [\"Apple\", \"Banana\", \"Orange\", \"Mango\", \"Grapes\"]\n",
    "\n",
    "try:\n",
    "    with open(file_path, \"w\") as file:\n",
    "        for fruit in fruit_list:\n",
    "            file.write(fruit + \"\\n\")\n",
    "\n",
    "    print(f\"List of fruits written to '{file_path}'.\")\n",
    "\n",
    "except Exception as e:\n",
    "    print(f\"An error occurred: {e}\")"
   ]
  },
  {
   "cell_type": "markdown",
   "id": "452eb320",
   "metadata": {},
   "source": [
    "# Explain Inheritance in Python with an example?What is init? Or What Is A Constructor In Python? \n",
    "\n"
   ]
  },
  {
   "cell_type": "code",
   "execution_count": null,
   "id": "a15e5f1b",
   "metadata": {},
   "outputs": [],
   "source": [
    "#Inheritance in Python allows a new class (subclass or derived class) to inherit attributes and methods from an existing class (superclass or base class). This promotes code reuse and supports the \"is-a\" relationship between classes.\n",
    "\n",
    "Example:\n",
    "class Animal:\n",
    "    def speak(self):\n",
    "        pass\n",
    "\n",
    "class Dog(Animal):\n",
    "    def speak(self):\n",
    "        return \"Woof!\"\n",
    "\n",
    "dog = Dog()\n",
    "print(dog.speak())  \n",
    "#In Python, _init_ is a special method that serves as a constructor for a class. It is called automatically when an object of the class is created. The primary purpose of _init_ is to initialize the attributes of the object."
   ]
  },
  {
   "cell_type": "markdown",
   "id": "a498a822",
   "metadata": {},
   "source": [
    "# Write a python program to find the longest words."
   ]
  },
  {
   "cell_type": "code",
   "execution_count": null,
   "id": "efbdc1ae",
   "metadata": {},
   "outputs": [],
   "source": [
    "words = [\"apple\", \"banana\", \"cherry\", \"date\", \"elderberry\", \"fig\"]\n",
    "max_length = max(len(word) for word in words)\n",
    "longest_words = [word for word in words if len(word) == max_length]\n",
    "print(\"Longest word(s):\", longest_words)"
   ]
  },
  {
   "cell_type": "markdown",
   "id": "cbbc881b",
   "metadata": {},
   "source": [
    "# How to Define a Class in Python? What Is Self? Give An Example Of A Python Class\n",
    ".\n"
   ]
  },
  {
   "cell_type": "code",
   "execution_count": null,
   "id": "2576eaf5",
   "metadata": {},
   "outputs": [],
   "source": [
    "#In Python, we can define a class using the 'class' keyword. In Python, self is a conventional name used to represent the instance of a class within its methods. It is the first parameter of instance methods and refers to the specific instance that is calling the method. self allows us to access and modify the object's attributes and call its methods within the class. \n",
    "Example:-\n",
    "class Person:\n",
    "    def _init_(self, name, age):\n",
    "        self.name = name\n",
    "        self.age = age\n",
    "\n",
    "    def greet(self):\n",
    "        return f\"Hello, my name is {self.name} and I am {self.age} years old.\"\n",
    "\n",
    "person1 = Person(\"Alice\", 30)\n",
    "\n",
    "print(person1.name)       \n",
    "print(person1.age)        \n",
    "print(person1.greet())"
   ]
  },
  {
   "cell_type": "markdown",
   "id": "f856028b",
   "metadata": {},
   "source": [
    "# Write a Python class named Rectangle constructed by a length and width and a method which will compute the area of a rectangle"
   ]
  },
  {
   "cell_type": "code",
   "execution_count": null,
   "id": "509ca5ef",
   "metadata": {},
   "outputs": [],
   "source": [
    "class Rectangle:\n",
    "    def _init_(self, length, width):\n",
    "        self.length = length\n",
    "        self.width = width\n",
    "\n",
    "    def compute_area(self):\n",
    "        return self.length * self.width\n",
    "\n",
    "rectangle = Rectangle(5, 3)\n",
    "area = rectangle.compute_area()\n",
    "print(f\"The area of the rectangle is {area} square units.\")"
   ]
  },
  {
   "cell_type": "markdown",
   "id": "e627277a",
   "metadata": {},
   "source": [
    "## Explain Exception handling? What is an Error in Python? "
   ]
  },
  {
   "cell_type": "code",
   "execution_count": null,
   "id": "f64d868d",
   "metadata": {},
   "outputs": [],
   "source": [
    "#Exception handling in Python allows us to gracefully handle errors and unexpected situations in our code. When an exception occurs, it doesn't crash the program but instead provides a mechanism to catch and manage the error. We can use try, except, and finally blocks to handle exceptions, ensuring our program can recover from errors and continue executing without interruption. \n",
    "#In Python, an error, often referred to as an \"exception,\" is a condition that disrupts the normal flow of a program. Errors can occur due to various reasons, such as incorrect syntax (SyntaxError), runtime issues (e.g., ZeroDivisionError), or custom exceptions raised by the program. Exception handling is used to handle and recover from these errors to prevent program crashes and maintain robustness"
   ]
  },
  {
   "cell_type": "markdown",
   "id": "bed33f31",
   "metadata": {},
   "source": [
    "## How many except statements can a try-except block have? Name Some built-in exception classes: "
   ]
  },
  {
   "cell_type": "code",
   "execution_count": null,
   "id": "07b1d1b9",
   "metadata": {},
   "outputs": [],
   "source": [
    "#A try-except block in Python can have multiple except clauses to handle different types of exceptions. We can have as many except clauses as needed to handle various exceptions that may arise within the try block.  Here are some of the most commonly used built-in exception classes:\n",
    "\n",
    "# SyntaxError: Raised when there is a syntax error in the Python code.\n",
    "\n",
    "# IndentationError: Subclass of SyntaxError, raised when there is an issue with the indentation of code blocks.\n",
    "\n",
    "# NameError: Raised when a local or global name is not found.\n",
    "\n",
    "# TypeError: Raised when an operation or function is applied to an object of inappropriate type.\n",
    "\n",
    "# ValueError: Raised when an operation or function receives an argument of the correct type but with an inappropriate value."
   ]
  },
  {
   "cell_type": "markdown",
   "id": "9d89a755",
   "metadata": {},
   "source": [
    "## Write python program that user to enter only odd numbers, else will raise an exception. "
   ]
  },
  {
   "cell_type": "code",
   "execution_count": null,
   "id": "fb017904",
   "metadata": {},
   "outputs": [],
   "source": [
    "try:\n",
    "    while True:\n",
    "        user_input = int(input(\"Enter an odd number: \"))\n",
    "        if user_input % 2 == 0:\n",
    "            raise ValueError(\"Even number entered. Please enter an odd number.\")\n",
    "        else:\n",
    "            print(f\"You entered an odd number: {user_input}\")\n",
    "            break\n",
    "\n",
    "except ValueError as ve:\n",
    "    print(ve)\n",
    "except KeyboardInterrupt:\n",
    "    print(\"\\nProgram terminated by the user.\")\n",
    "except Exception as e:\n",
    "    print(f\"An error occurred: {e}\")"
   ]
  },
  {
   "cell_type": "markdown",
   "id": "e8497bda",
   "metadata": {},
   "source": [
    "## Write a Python class named Circle constructed by a radius and two methods which will compute the area and the perimeter of a circle "
   ]
  },
  {
   "cell_type": "code",
   "execution_count": null,
   "id": "2a6c509d",
   "metadata": {},
   "outputs": [],
   "source": [
    "class Circle:\n",
    "    def _init_(self, radius):\n",
    "        self.radius = radius\n",
    "\n",
    "    def compute_area(self):\n",
    "        return 3.14159 * self.radius * self.radius\n",
    "\n",
    "    def compute_perimeter(self):\n",
    "        return 2 * 3.14159 * self.radius\n",
    "\n",
    "circle = Circle(5)\n",
    "area = circle.compute_area()\n",
    "perimeter = circle.compute_perimeter()\n",
    "\n",
    "print(f\"The area of the circle is {area:.2f} square units.\")\n",
    "print(f\"The perimeter of the circle is {perimeter:.2f} units.\")"
   ]
  },
  {
   "cell_type": "markdown",
   "id": "fc384afd",
   "metadata": {},
   "source": [
    "## Explain Inheritance in Python with an example? What is init? Or What Is A Constructor In Python? "
   ]
  },
  {
   "cell_type": "code",
   "execution_count": null,
   "id": "242666cb",
   "metadata": {},
   "outputs": [],
   "source": [
    "#Inheritance in Python allows a new class (subclass or derived class) to inherit attributes and methods from an existing class (superclass or base class). This promotes code reuse and supports the \"is-a\" relationship between classes.\n",
    "\n",
    "Example:\n",
    "class Animal:\n",
    "    def speak(self):\n",
    "        pass\n",
    "\n",
    "class Dog(Animal):\n",
    "    def speak(self):\n",
    "        return \"Woof!\"\n",
    "\n",
    "dog = Dog()\n",
    "print(dog.speak())  \n",
    "#In Python, _init_ is a special method that serves as a constructor for a class. It is called automatically when an object of the class is created. The primary purpose of _init_ is to initialize the attributes of the object."
   ]
  },
  {
   "cell_type": "markdown",
   "id": "ca9350b1",
   "metadata": {},
   "source": [
    "## What is Instantiation in terms of OOP terminology?\n",
    "\n"
   ]
  },
  {
   "cell_type": "code",
   "execution_count": null,
   "id": "5d864c6e",
   "metadata": {},
   "outputs": [],
   "source": [
    "#instantiation in object-oriented programming (OOP) can be described as the process by which we create specific objects or instances of a class. When we instantiate a class, we are essentially producing concrete entities that adhere to the structure and behavior defined by that class. These instances have their own unique data and can execute methods as needed, allowing us to work with individual objects within our program. python\n",
    "Copy code\n",
    "class Person:\n",
    "    def _init_(self, name, age):\n",
    "        self.name = name\n",
    "        self.age = age\n",
    "\n",
    "# Instantiating two Person objects\n",
    "person1 = Person(\"Alice\", 30)\n",
    "person2 = Person(\"Bob\", 25)\n",
    "#In this example, person1 and person2 are instances of the Person class, created through instantiation. They each have their own name and age attributes, distinct from each other and from other instances of the class."
   ]
  },
  {
   "cell_type": "code",
   "execution_count": null,
   "id": "59d11a69",
   "metadata": {},
   "outputs": [],
   "source": []
  }
 ],
 "metadata": {
  "kernelspec": {
   "display_name": "Python 3 (ipykernel)",
   "language": "python",
   "name": "python3"
  },
  "language_info": {
   "codemirror_mode": {
    "name": "ipython",
    "version": 3
   },
   "file_extension": ".py",
   "mimetype": "text/x-python",
   "name": "python",
   "nbconvert_exporter": "python",
   "pygments_lexer": "ipython3",
   "version": "3.11.4"
  },
  "vscode": {
   "interpreter": {
    "hash": "2043299c89c8cd0b4d1a6f5cf4529bd58e6a4e0fe3181a25e0d328c821cdc5c5"
   }
  }
 },
 "nbformat": 4,
 "nbformat_minor": 5
}
