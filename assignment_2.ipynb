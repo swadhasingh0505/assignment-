{
 "cells": [
  {
   "cell_type": "markdown",
   "id": "9ab7acb3",
   "metadata": {},
   "source": [
    "# Python Assignment - 2\n",
    "### Carries - 30 marks"
   ]
  },
  {
   "cell_type": "markdown",
   "id": "d4122e1a",
   "metadata": {},
   "source": [
    "## What is List? How will you reverse a list?"
   ]
  },
  {
   "cell_type": "code",
   "execution_count": 2,
   "id": "ef44f9e9",
   "metadata": {},
   "outputs": [],
   "source": [
    "fruits = [\"pomegranate\", \"strawberry\", \"blackberry\", \"raspberry\", \"pineapple\"]"
   ]
  },
  {
   "cell_type": "code",
   "execution_count": 3,
   "id": "521834b9",
   "metadata": {},
   "outputs": [
    {
     "data": {
      "text/plain": [
       "list"
      ]
     },
     "execution_count": 3,
     "metadata": {},
     "output_type": "execute_result"
    }
   ],
   "source": [
    "type(fruits) #this is list"
   ]
  },
  {
   "cell_type": "code",
   "execution_count": 11,
   "id": "fedd7f46",
   "metadata": {},
   "outputs": [
    {
     "data": {
      "text/plain": [
       "['pomegranate', 'strawberry', 'blackberry', 'raspberry,pineapple']"
      ]
     },
     "execution_count": 11,
     "metadata": {},
     "output_type": "execute_result"
    }
   ],
   "source": [
    "fruits[:: -1]"
   ]
  },
  {
   "cell_type": "markdown",
   "id": "69255251",
   "metadata": {},
   "source": [
    "# How will you compare two lists?"
   ]
  },
  {
   "cell_type": "code",
   "execution_count": 15,
   "id": "4bdbeead",
   "metadata": {},
   "outputs": [
    {
     "name": "stdout",
     "output_type": "stream",
     "text": [
      "the lists are not equal.\n"
     ]
    }
   ],
   "source": [
    "fruits = [\"pomegranate\", \"strawberry\", \"blackberry\", \"raspberry\", \"pineapple\"]\n",
    "veggies =[\"cauliflower\" ,\"cabbage\" ,\"tomato\" ,\" onion\"]\n",
    "\n",
    "if fruits == veggies:\n",
    "    print(\"the lists are equal.\")\n",
    "else:\n",
    "    print(\"the lists are not equal.\")"
   ]
  },
  {
   "cell_type": "markdown",
   "id": "367150d6",
   "metadata": {},
   "source": [
    "###  How will you remove last object from a list? Suppose list1 is [2, 33, 222, 14, and 25], what is list1 [-1]? "
   ]
  },
  {
   "cell_type": "code",
   "execution_count": 23,
   "id": "0217e5ce",
   "metadata": {},
   "outputs": [],
   "source": [
    "list1 = [2,33,222,14,25]"
   ]
  },
  {
   "cell_type": "code",
   "execution_count": 26,
   "id": "b15a1058",
   "metadata": {},
   "outputs": [
    {
     "name": "stdout",
     "output_type": "stream",
     "text": [
      "[2, 33]\n"
     ]
    }
   ],
   "source": [
    "list1.pop(-1)\n",
    "print(list1)"
   ]
  },
  {
   "cell_type": "markdown",
   "id": "9ad2912e",
   "metadata": {},
   "source": [
    "### Differentiate between append () and extend () methods? "
   ]
  },
  {
   "cell_type": "code",
   "execution_count": 28,
   "id": "029ca016",
   "metadata": {},
   "outputs": [
    {
     "name": "stdout",
     "output_type": "stream",
     "text": [
      "[22, 33, 44, 55, 66, 11]\n"
     ]
    }
   ],
   "source": [
    "list2 =[22,33,44,55,66]\n",
    "list2.append(11)\n",
    "print(list2)"
   ]
  },
  {
   "cell_type": "code",
   "execution_count": 29,
   "id": "9f0d5d58",
   "metadata": {},
   "outputs": [
    {
     "name": "stdout",
     "output_type": "stream",
     "text": [
      "[22, 33, 44, 55, 66, 11, 77, 88]\n"
     ]
    }
   ],
   "source": [
    "list2 =[22,33,44,55,66]\n",
    "list3 =[11,77,88]\n",
    "list2.extend(list3)\n",
    "print(list2)"
   ]
  },
  {
   "cell_type": "markdown",
   "id": "5f8c10ed",
   "metadata": {},
   "source": [
    "### Write a Python program to find the second smallest number in a list."
   ]
  },
  {
   "cell_type": "code",
   "execution_count": 10,
   "id": "79acc6a9",
   "metadata": {},
   "outputs": [
    {
     "name": "stdout",
     "output_type": "stream",
     "text": [
      "the second smallest number is : 53\n"
     ]
    }
   ],
   "source": [
    "list2 = [71,62,53,44,89]\n",
    "def find_second_smallest(numbers):\n",
    "    if len(numbers)< 2:\n",
    "        return None \n",
    "    sorted_numbers = sorted(numbers)\n",
    "    return sorted_numbers[1]\n",
    "result = find_second_smallest(list2)\n",
    "print (\"the second smallest number is :\",result)"
   ]
  },
  {
   "cell_type": "markdown",
   "id": "6ded1b65",
   "metadata": {},
   "source": [
    "### Write a Python program to find the length of a tuple."
   ]
  },
  {
   "cell_type": "code",
   "execution_count": 32,
   "id": "61cfffe0",
   "metadata": {},
   "outputs": [
    {
     "data": {
      "text/plain": [
       "5"
      ]
     },
     "execution_count": 32,
     "metadata": {},
     "output_type": "execute_result"
    }
   ],
   "source": [
    "tuple1 = (25,35,45,55,65)\n",
    "len(tuple1)\n"
   ]
  },
  {
   "cell_type": "markdown",
   "id": "86d7bc5d",
   "metadata": {},
   "source": [
    "## Write a Python program to reverse a tuple."
   ]
  },
  {
   "cell_type": "code",
   "execution_count": 77,
   "id": "161ca274",
   "metadata": {},
   "outputs": [
    {
     "name": "stdout",
     "output_type": "stream",
     "text": [
      "Original Tuple: {my_tuple}\n",
      "Reversed Tuple: {reversed_tuple}\n"
     ]
    }
   ],
   "source": [
    "def reverse_tuple(input_tuple):\n",
    "    return tuple(reversed(input_tuple))\n",
    "\n",
    "my_tuple = (1, 2, 3, 4, 5)\n",
    "reversed_tuple = reverse_tuple(my_tuple)\n",
    "\n",
    "print(\"Original Tuple: {my_tuple}\")\n",
    "print(\"Reversed Tuple: {reversed_tuple}\")"
   ]
  },
  {
   "cell_type": "markdown",
   "id": "2a982267",
   "metadata": {},
   "source": [
    "### Write a Python program to remove duplicates from a list. "
   ]
  },
  {
   "cell_type": "code",
   "execution_count": 85,
   "id": "94d4beb8",
   "metadata": {},
   "outputs": [
    {
     "name": "stdout",
     "output_type": "stream",
     "text": [
      "[71, 41, 51, 21, 61, 31]\n"
     ]
    }
   ],
   "source": [
    "def remove_duplicates(input_list):\n",
    "    return list(set(input_list))\n",
    "list1 = [21,31,41,51,61,71]\n",
    "result_list = remove_duplicates(list1)\n",
    "print(result_list)"
   ]
  },
  {
   "cell_type": "markdown",
   "id": "2573940b",
   "metadata": {},
   "source": [
    "## Write a Python function that takes a list and returns a new list with unique elements of the first list."
   ]
  },
  {
   "cell_type": "code",
   "execution_count": 78,
   "id": "6c34b94a",
   "metadata": {},
   "outputs": [
    {
     "name": "stdout",
     "output_type": "stream",
     "text": [
      "Original List: {original_list}\n",
      "Unique Elements List: {unique_elements}\n"
     ]
    }
   ],
   "source": [
    "def get_unique_elements(input_list):\n",
    "    unique_list = list(set(input_list))\n",
    "    return unique_list\n",
    "\n",
    "original_list = [1, 2, 2, 3, 4, 4, 5]\n",
    "unique_elements = get_unique_elements(original_list)\n",
    "\n",
    "print(\"Original List: {original_list}\")\n",
    "print(\"Unique Elements List: {unique_elements}\")"
   ]
  },
  {
   "cell_type": "markdown",
   "id": "569027d9",
   "metadata": {},
   "source": [
    "###  Write a Python program to check a list is empty or not. "
   ]
  },
  {
   "cell_type": "code",
   "execution_count": 73,
   "id": "fd71c169",
   "metadata": {},
   "outputs": [
    {
     "name": "stdout",
     "output_type": "stream",
     "text": [
      "The list is empty.\n",
      "The list is not empty.\n"
     ]
    }
   ],
   "source": [
    "def is_list_empty(my_list):\n",
    "    return not bool(my_list)\n",
    "\n",
    "empty_list = []\n",
    "non_empty_list = [1, 2, 3]\n",
    "\n",
    "if is_list_empty(empty_list):\n",
    "    print(\"The list is empty.\")\n",
    "else:\n",
    "    print(\"The list is not empty.\")\n",
    "\n",
    "if is_list_empty(non_empty_list):\n",
    "    print(\"The list is empty.\")\n",
    "else:\n",
    "    print(\"The list is not empty.\")"
   ]
  },
  {
   "cell_type": "markdown",
   "id": "c64d9e48",
   "metadata": {},
   "source": [
    "### Write a Python function to get the largest number, smallest num and sum of all from a list. "
   ]
  },
  {
   "cell_type": "code",
   "execution_count": 75,
   "id": "155dd0e4",
   "metadata": {},
   "outputs": [
    {
     "name": "stdout",
     "output_type": "stream",
     "text": [
      "Largest number: {largest}\n",
      "Smallest number: {smallest}\n",
      "Sum of all numbers: {total}\n"
     ]
    }
   ],
   "source": [
    "def list_stats(numbers):\n",
    "    if not numbers:\n",
    "        return None, None, 0\n",
    "\n",
    "    largest = max(numbers)\n",
    "    smallest = min(numbers)\n",
    "    total = sum(numbers)\n",
    "\n",
    "    return largest, smallest, total\n",
    "\n",
    "number_list = [1, 5, 3, 7, 2, 8, 4]\n",
    "largest, smallest, total = list_stats(number_list)\n",
    "\n",
    "print(\"Largest number: {largest}\")\n",
    "print(\"Smallest number: {smallest}\")\n",
    "print(\"Sum of all numbers: {total}\")"
   ]
  },
  {
   "cell_type": "markdown",
   "id": "80f8354d",
   "metadata": {},
   "source": [
    "### Write a Python program to get unique values from a list "
   ]
  },
  {
   "cell_type": "code",
   "execution_count": 76,
   "id": "c7ab6392",
   "metadata": {},
   "outputs": [
    {
     "name": "stdout",
     "output_type": "stream",
     "text": [
      "Original List: {my_list}\n",
      "Unique Values: {unique_values}\n"
     ]
    }
   ],
   "source": [
    "def get_unique_values(input_list):\n",
    "    return list(set(input_list))\n",
    "\n",
    "my_list = [1, 2, 2, 3, 4, 4, 5]\n",
    "unique_values = get_unique_values(my_list)\n",
    "\n",
    "print(\"Original List: {my_list}\")\n",
    "print(\"Unique Values: {unique_values}\")"
   ]
  },
  {
   "cell_type": "markdown",
   "id": "a62c3d8c",
   "metadata": {},
   "source": [
    "### Write a Python program to split a list into different variables."
   ]
  },
  {
   "cell_type": "code",
   "execution_count": 69,
   "id": "25bb05a2",
   "metadata": {},
   "outputs": [
    {
     "name": "stdout",
     "output_type": "stream",
     "text": [
      "var1: {var1}\n",
      "var2: {var2}\n",
      "var3: {var3}\n"
     ]
    }
   ],
   "source": [
    "def split_list_into_variables(input_list):\n",
    "    \n",
    "    if len(input_list) != 3:\n",
    "        raise ValueError(\"Input list must have exactly three elements\")\n",
    "   \n",
    "    var1, var2, var3 = input_list\n",
    "    \n",
    "    return var1, var2, var3\n",
    "\n",
    "my_list = [1, 2, 3]\n",
    "var1, var2, var3 = split_list_into_variables(my_list)\n",
    "\n",
    "print(\"var1: {var1}\")\n",
    "print(\"var2: {var2}\")\n",
    "print(\"var3: {var3}\")"
   ]
  },
  {
   "cell_type": "markdown",
   "id": "f85589f9",
   "metadata": {},
   "source": [
    "### Write a Python program to check whether an element exists within a tuple"
   ]
  },
  {
   "cell_type": "code",
   "execution_count": 70,
   "id": "84d3d847",
   "metadata": {},
   "outputs": [
    {
     "name": "stdout",
     "output_type": "stream",
     "text": [
      "{element_to_check} exists in the tuple.\n"
     ]
    }
   ],
   "source": [
    "def element_in_tuple(element, my_tuple):\n",
    "    return element in my_tuple\n",
    "\n",
    "my_tuple = (1, 2, 3, 4, 5)\n",
    "element_to_check = 3\n",
    "\n",
    "if element_in_tuple(element_to_check, my_tuple):\n",
    "    print(\"{element_to_check} exists in the tuple.\")\n",
    "else:\n",
    "    print(\"{element_to_check} does not exist in the tuple.\")"
   ]
  },
  {
   "cell_type": "markdown",
   "id": "f9fdf431",
   "metadata": {},
   "source": [
    "### Write a Python program to convert a list to a tuple. "
   ]
  },
  {
   "cell_type": "code",
   "execution_count": 71,
   "id": "55b39659",
   "metadata": {},
   "outputs": [
    {
     "name": "stdout",
     "output_type": "stream",
     "text": [
      "Original List: {my_list}\n",
      "Converted Tuple: {my_tuple}\n"
     ]
    }
   ],
   "source": [
    "def list_to_tuple(input_list):\n",
    "    return tuple(input_list)\n",
    "\n",
    "my_list = [1, 2, 3, 4, 5]\n",
    "my_tuple = list_to_tuple(my_list)\n",
    "\n",
    "print(\"Original List: {my_list}\")\n",
    "print(\"Converted Tuple: {my_tuple}\")"
   ]
  },
  {
   "cell_type": "markdown",
   "id": "9b882e05",
   "metadata": {},
   "source": [
    "### Write a Python program to find the repeated items of a tuple."
   ]
  },
  {
   "cell_type": "code",
   "execution_count": 72,
   "id": "9b81129e",
   "metadata": {},
   "outputs": [
    {
     "name": "stdout",
     "output_type": "stream",
     "text": [
      "Repeated items in the tuple: {repeated}\n"
     ]
    }
   ],
   "source": [
    "def find_repeated_items(my_tuple):\n",
    "    seen = set()\n",
    "    repeated_items = set()\n",
    "\n",
    "    for item in my_tuple:\n",
    "        if item in seen:\n",
    "            repeated_items.add(item)\n",
    "        else:\n",
    "            seen.add(item)\n",
    "\n",
    "    return repeated_items\n",
    "\n",
    "my_tuple = (1, 2, 2, 3, 4, 4, 5)\n",
    "repeated = find_repeated_items(my_tuple)\n",
    "\n",
    "if repeated:\n",
    "    print(\"Repeated items in the tuple: {repeated}\")\n",
    "else:\n",
    "    print(\"No repeated items found in the tuple.\")"
   ]
  },
  {
   "cell_type": "markdown",
   "id": "a4b253d1",
   "metadata": {},
   "source": [
    "###  Write a Python program to remove an empty tuple(s) from a list of tuples"
   ]
  },
  {
   "cell_type": "code",
   "execution_count": 62,
   "id": "5b573974",
   "metadata": {},
   "outputs": [
    {
     "name": "stdout",
     "output_type": "stream",
     "text": [
      "[(1, 2), (3, 4), (5, 6)]\n"
     ]
    }
   ],
   "source": [
    "def remove_empty_tuples(tuple_list):\n",
    "    result = [t for t in tuple_list if t]\n",
    "    return result\n",
    "\n",
    "tuple_list = [(1, 2), (), (3, 4), (), (5, 6), ()]\n",
    "filtered_list = remove_empty_tuples(tuple_list)\n",
    "print(filtered_list)"
   ]
  },
  {
   "cell_type": "markdown",
   "id": "e4b2114c",
   "metadata": {},
   "source": [
    "### Write a Python program to unzip a list of tuples into individual lists. "
   ]
  },
  {
   "cell_type": "code",
   "execution_count": 63,
   "id": "1b624da0",
   "metadata": {},
   "outputs": [
    {
     "name": "stdout",
     "output_type": "stream",
     "text": [
      "[(1, 2, 3), ('a', 'b', 'c')]\n"
     ]
    }
   ],
   "source": [
    "def unzip_tuples(tuple_list):\n",
    "    unzipped_lists = list(zip(*tuple_list))\n",
    "    return unzipped_lists\n",
    "\n",
    "tuple_list = [(1, 'a'), (2, 'b'), (3, 'c')]\n",
    "unzipped = unzip_tuples(tuple_list)\n",
    "print(unzipped)"
   ]
  },
  {
   "cell_type": "markdown",
   "id": "f6c16416",
   "metadata": {},
   "source": [
    "### Write a Python function to check whether a number is in a given range"
   ]
  },
  {
   "cell_type": "code",
   "execution_count": 84,
   "id": "5c2e1e91",
   "metadata": {},
   "outputs": [
    {
     "name": "stdout",
     "output_type": "stream",
     "text": [
      "5 is in the range [10,50]\n"
     ]
    }
   ],
   "source": [
    "def is_in_range(number, start, end):\n",
    "    return start <= number <= end\n",
    "\n",
    "num = 25\n",
    "start_range = 10\n",
    "end_range = 50\n",
    "\n",
    "if is_in_range(25, 10, 50):\n",
    "    print(f\"{5} is in the range [{10},{50}]\")"
   ]
  },
  {
   "cell_type": "markdown",
   "id": "ca38d306",
   "metadata": {},
   "source": [
    "### Write a Python function that checks whether a passed string is palindrome or not "
   ]
  },
  {
   "cell_type": "code",
   "execution_count": 68,
   "id": "e20061fb",
   "metadata": {},
   "outputs": [
    {
     "name": "stdout",
     "output_type": "stream",
     "text": [
      "'{test_string}' is a palindrome.\n"
     ]
    }
   ],
   "source": [
    "def is_palindrome(input_string):\n",
    "    \n",
    "    cleaned_string = input_string.replace(\" \", \"\").lower()\n",
    "    \n",
    "    return cleaned_string == cleaned_string[::-1]\n",
    "\n",
    "test_string = \"A man a plan a canal Panama\"\n",
    "if is_palindrome(test_string):\n",
    "    print(\"'{test_string}' is a palindrome.\")\n",
    "else:\n",
    "    print(\"'{test_string}' is not a palindrome.\")"
   ]
  },
  {
   "cell_type": "markdown",
   "id": "19e7c4e5",
   "metadata": {},
   "source": [
    "### Write a Python program to returns sum of all divisors of a number "
   ]
  },
  {
   "cell_type": "code",
   "execution_count": 58,
   "id": "5fd0d815",
   "metadata": {},
   "outputs": [
    {
     "name": "stdout",
     "output_type": "stream",
     "text": [
      "28\n"
     ]
    }
   ],
   "source": [
    "def sum_of_divisors(number):\n",
    "    divisors_sum = 0\n",
    "    for i in range(1, number + 1):\n",
    "        if number % i == 0:\n",
    "            divisors_sum += i\n",
    "    return divisors_sum\n",
    "\n",
    "number = 12\n",
    "result = sum_of_divisors(12)\n",
    "print(result)"
   ]
  },
  {
   "cell_type": "markdown",
   "id": "e64676e6",
   "metadata": {},
   "source": [
    "### Write a Python program to find the maximum and minimum numbers from the specified decimal numbers. "
   ]
  },
  {
   "cell_type": "code",
   "execution_count": 59,
   "id": "119282e9",
   "metadata": {},
   "outputs": [
    {
     "name": "stdout",
     "output_type": "stream",
     "text": [
      "Maximum digit: {max_digit}\n",
      "Minimum digit: {min_digit}\n"
     ]
    }
   ],
   "source": [
    "def max_min_digits(decimal_number):\n",
    "    str_number = str(decimal_number)\n",
    "    digits = [int(digit) for digit in str_number if digit.isdigit()]\n",
    "\n",
    "    if digits:\n",
    "        max_digit = max(digits)\n",
    "        min_digit = min(digits)\n",
    "        print(\"Maximum digit: {max_digit}\")\n",
    "        print(\"Minimum digit: {min_digit}\")\n",
    "    else:\n",
    "        print(\"No digits found in the input.\")\n",
    "\n",
    "max_min_digits(5367.89421)"
   ]
  },
  {
   "cell_type": "markdown",
   "id": "afc120de",
   "metadata": {},
   "source": [
    "### Write a Python program to calculate the area of a parallelogram "
   ]
  },
  {
   "cell_type": "code",
   "execution_count": 60,
   "id": "0d4e61b6",
   "metadata": {},
   "outputs": [
    {
     "name": "stdout",
     "output_type": "stream",
     "text": [
      "40\n"
     ]
    }
   ],
   "source": [
    "def parallelogram_area(base, height):\n",
    "    area = base * height\n",
    "    return area\n",
    "\n",
    "result = parallelogram_area(5, 8)\n",
    "print(result)"
   ]
  },
  {
   "cell_type": "markdown",
   "id": "23ab496f",
   "metadata": {},
   "source": [
    "### Write a Python function to check whether a number is perfect or not. "
   ]
  },
  {
   "cell_type": "code",
   "execution_count": 61,
   "id": "2d7e8da7",
   "metadata": {},
   "outputs": [
    {
     "name": "stdout",
     "output_type": "stream",
     "text": [
      "{num} is a perfect number.\n"
     ]
    }
   ],
   "source": [
    "def is_perfect_number(number):\n",
    "    if number <= 0:\n",
    "        return False\n",
    "\n",
    "    divisors_sum = 0\n",
    "    for i in range(1, number):\n",
    "        if number % i == 0:\n",
    "            divisors_sum += i\n",
    "\n",
    "    return divisors_sum == number\n",
    "\n",
    "result = is_perfect_number(28)\n",
    "\n",
    "if result:\n",
    "    print(\"{num} is a perfect number.\")\n",
    "else:\n",
    "    print(\"{num} is not a perfect number.\")"
   ]
  },
  {
   "cell_type": "markdown",
   "id": "5e41e219",
   "metadata": {},
   "source": [
    "### Write a Python program to convert degree to radian"
   ]
  },
  {
   "cell_type": "code",
   "execution_count": 56,
   "id": "87fb8406",
   "metadata": {},
   "outputs": [
    {
     "name": "stdout",
     "output_type": "stream",
     "text": [
      "{degrees} degrees = {radians} radians\n"
     ]
    }
   ],
   "source": [
    "degrees = 45\n",
    "\n",
    "conversion_factor = 3.14 / 180\n",
    "\n",
    "radians = degrees * conversion_factor\n",
    "\n",
    "print(\"{degrees} degrees = {radians} radians\")"
   ]
  },
  {
   "cell_type": "markdown",
   "id": "368bba70",
   "metadata": {},
   "source": [
    "###  Write a Python program to calculate the area of a trapezoid "
   ]
  },
  {
   "cell_type": "code",
   "execution_count": 79,
   "id": "34ef44e0",
   "metadata": {},
   "outputs": [
    {
     "name": "stdout",
     "output_type": "stream",
     "text": [
      "450.0\n"
     ]
    }
   ],
   "source": [
    "def trapezoid_area(base1, base2, height):\n",
    "    area = 0.5 * (base1 + base2) * height\n",
    "    return area\n",
    "print(trapezoid_area(10,20,30))"
   ]
  },
  {
   "cell_type": "markdown",
   "id": "8bf811b7",
   "metadata": {},
   "source": [
    "## Write a Python program to calculate surface volume and area of a cylinder "
   ]
  },
  {
   "cell_type": "code",
   "execution_count": 5,
   "id": "f5fc9dfb",
   "metadata": {},
   "outputs": [
    {
     "name": "stdout",
     "output_type": "stream",
     "text": [
      "471.23889803846896 785.3981633974483\n"
     ]
    }
   ],
   "source": [
    "import math\n",
    "def cylinder_properties(radius, height):\n",
    "    surface_area = 2 * math.pi * radius * (radius + height)\n",
    "    volume = math.pi * radius**2 * height\n",
    "    return surface_area, volume\n",
    "surface_area, volume = cylinder_properties(5, 10)\n",
    "print(surface_area, volume)"
   ]
  },
  {
   "cell_type": "code",
   "execution_count": null,
   "id": "f264bd83",
   "metadata": {},
   "outputs": [],
   "source": []
  }
 ],
 "metadata": {
  "kernelspec": {
   "display_name": "Python 3 (ipykernel)",
   "language": "python",
   "name": "python3"
  },
  "language_info": {
   "codemirror_mode": {
    "name": "ipython",
    "version": 3
   },
   "file_extension": ".py",
   "mimetype": "text/x-python",
   "name": "python",
   "nbconvert_exporter": "python",
   "pygments_lexer": "ipython3",
   "version": "3.11.4"
  },
  "vscode": {
   "interpreter": {
    "hash": "5ae58900cfbb8c43ab3495913814b7cf26024f51651a94ce8bf64d6111688e8d"
   }
  }
 },
 "nbformat": 4,
 "nbformat_minor": 5
}
