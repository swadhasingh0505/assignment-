{
 "cells": [
  {
   "cell_type": "markdown",
   "id": "fb933f7e",
   "metadata": {},
   "source": [
    "# Python Assignment - 1\n",
    "#### Carries 30 marks"
   ]
  },
  {
   "cell_type": "markdown",
   "id": "b4896514",
   "metadata": {},
   "source": [
    "### Write a Python program to sum of three given integers. However, if two values are equal sum will be zero."
   ]
  },
  {
   "cell_type": "code",
   "execution_count": 1,
   "id": "230cee62",
   "metadata": {},
   "outputs": [
    {
     "name": "stdout",
     "output_type": "stream",
     "text": [
      "9\n"
     ]
    }
   ],
   "source": [
    "def calculate_sum(num1, num2, num3):\n",
    "    if num1 == num2 or num1 == num3 or num2 == num3:\n",
    "        return 0\n",
    "    else:\n",
    "        return num1 + num2 + num3\n",
    "result = calculate_sum(1, 5, 3)\n",
    "print(result)\n"
   ]
  },
  {
   "cell_type": "markdown",
   "id": "44498b23",
   "metadata": {},
   "source": [
    "### Write a Python program to test whether a passed letter is a vowel or not."
   ]
  },
  {
   "cell_type": "code",
   "execution_count": 2,
   "id": "5800a1e9",
   "metadata": {},
   "outputs": [
    {
     "name": "stdout",
     "output_type": "stream",
     "text": [
      "True\n"
     ]
    }
   ],
   "source": [
    "def check_vowel(letter):\n",
    "    vowels = \"AaEeIiOoUu\"\n",
    "    if letter in vowels:\n",
    "        return True\n",
    "    else:\n",
    "        return False\n",
    "print(check_vowel('U'))\n"
   ]
  },
  {
   "cell_type": "markdown",
   "id": "999e1c55",
   "metadata": {},
   "source": [
    "### Write python program that swap two number with temp variable and without temp variable."
   ]
  },
  {
   "cell_type": "code",
   "execution_count": 3,
   "id": "71b08ddf",
   "metadata": {},
   "outputs": [
    {
     "name": "stdout",
     "output_type": "stream",
     "text": [
      "None\n"
     ]
    }
   ],
   "source": [
    "def swap(num1, num2):\n",
    "#     with temp variable\n",
    "    temp = num1;\n",
    "    num1 = num2;\n",
    "    num2 = temp;\n",
    "#     without temp variable\n",
    "    num1 = num1 + num2\n",
    "    num2 = num1 - num2\n",
    "    num1 = num1 - num2\n",
    "#     return [num1, num2]\n",
    "print(swap(1,2))\n"
   ]
  },
  {
   "cell_type": "markdown",
   "id": "d9805ba4",
   "metadata": {},
   "source": [
    "### Write a Python program to calculate the length of a string."
   ]
  },
  {
   "cell_type": "code",
   "execution_count": 1,
   "id": "df81befe",
   "metadata": {},
   "outputs": [
    {
     "name": "stdout",
     "output_type": "stream",
     "text": [
      "6\n"
     ]
    }
   ],
   "source": [
    "def calcLength(test):\n",
    "    length = 0\n",
    "    for char in test:\n",
    "        length += 1\n",
    "    return length\n",
    "print(calcLength('swadha'))\n"
   ]
  },
  {
   "cell_type": "markdown",
   "id": "99144e41",
   "metadata": {},
   "source": [
    "### Write a Python program to find whether a given number is even or odd,print out an appropriate message to the user."
   ]
  },
  {
   "cell_type": "code",
   "execution_count": 2,
   "id": "dbbf15d7",
   "metadata": {},
   "outputs": [
    {
     "name": "stdout",
     "output_type": "stream",
     "text": [
      "Given number is odd\n"
     ]
    }
   ],
   "source": [
    "def check_odd_even(num):\n",
    "    if num % 2 == 0:\n",
    "        print('Given number is even')\n",
    "    else:\n",
    "        print('Given number is odd')\n",
    "check_odd_even(1)\n"
   ]
  },
  {
   "cell_type": "markdown",
   "id": "0a560977",
   "metadata": {},
   "source": [
    "### write a programme to find biggest number of given three values."
   ]
  },
  {
   "cell_type": "code",
   "execution_count": 3,
   "id": "4f3fa091",
   "metadata": {},
   "outputs": [
    {
     "name": "stdout",
     "output_type": "stream",
     "text": [
      "20\n"
     ]
    }
   ],
   "source": [
    "def biggest_number(num1, num2, num3):\n",
    "    biggest = 0\n",
    "    if num1 >= num2 and num1 >= num3:\n",
    "        biggest = num1\n",
    "    elif num2 >= num1 and num2 >= num3:\n",
    "        biggest = num2\n",
    "    else:\n",
    "        biggest = num3\n",
    "    return biggest\n",
    "print(biggest_number(10,20,3))            \n"
   ]
  },
  {
   "cell_type": "markdown",
   "id": "5327a33b",
   "metadata": {},
   "source": [
    "### Write a Python program that will return true if the two given integer values are equal or their sum or difference is 5."
   ]
  },
  {
   "cell_type": "code",
   "execution_count": 4,
   "id": "1aa41bcc",
   "metadata": {},
   "outputs": [
    {
     "name": "stdout",
     "output_type": "stream",
     "text": [
      "True\n"
     ]
    }
   ],
   "source": [
    "def test(num1, num2):\n",
    "    if num1 == num2 or num1 - num2 == 5 or num2 - num1 == 5:\n",
    "        return True\n",
    "    else:\n",
    "        return False\n",
    "print(test(5,10))\n"
   ]
  },
  {
   "cell_type": "markdown",
   "id": "b1075328",
   "metadata": {},
   "source": [
    "### Write a python program to sum of the first n positive integers."
   ]
  },
  {
   "cell_type": "code",
   "execution_count": 5,
   "id": "5d474698",
   "metadata": {},
   "outputs": [
    {
     "name": "stdout",
     "output_type": "stream",
     "text": [
      "15\n"
     ]
    }
   ],
   "source": [
    "def sum(num):\n",
    "    sum_of_integer = 0\n",
    "    for i in range(1, num + 1):\n",
    "        sum_of_integer += i\n",
    "    return sum_of_integer\n",
    "print(sum(5))\n"
   ]
  },
  {
   "cell_type": "markdown",
   "id": "e480000b",
   "metadata": {},
   "source": [
    "### Write a Python program to calculate the length of a string."
   ]
  },
  {
   "cell_type": "code",
   "execution_count": 6,
   "id": "e154e64e",
   "metadata": {},
   "outputs": [
    {
     "name": "stdout",
     "output_type": "stream",
     "text": [
      "6\n"
     ]
    }
   ],
   "source": [
    "def calcLength(test):\n",
    "    length = 0\n",
    "    for char in test:\n",
    "        length += 1\n",
    "    return length\n",
    "print(calcLength('swadha'))\n"
   ]
  },
  {
   "cell_type": "markdown",
   "id": "83f1be28",
   "metadata": {},
   "source": [
    "### What is the purpose continue statement in python?"
   ]
  },
  {
   "cell_type": "code",
   "execution_count": 1,
   "id": "abb0ca64",
   "metadata": {},
   "outputs": [],
   "source": [
    "#Continue is specifically used in loops. When a continue statement is encountered inside a loop, it causes the remaining code inside the loop body to skip for current iteration and control moves to the next iteration.\n"
   ]
  },
  {
   "cell_type": "markdown",
   "id": "728d8b7a",
   "metadata": {},
   "source": [
    "### Write a Python program to add 'ing' at the end of a given string (length should be at least 3). If the given string already ends with 'ing' then add 'ly' instead if the string length of the given string is less than 3, leave it unchanged.\n"
   ]
  },
  {
   "cell_type": "code",
   "execution_count": 9,
   "id": "c90c977e",
   "metadata": {},
   "outputs": [
    {
     "name": "stdout",
     "output_type": "stream",
     "text": [
      "healing\n"
     ]
    }
   ],
   "source": [
    "def test(my_string):\n",
    "    if len(my_string) < 3:\n",
    "        return my_string\n",
    "    elif my_string.endswith('ing'):\n",
    "        return my_string + 'ly'\n",
    "    else:\n",
    "        return my_string + 'ing'\n",
    "print(test('heal'))\n"
   ]
  },
  {
   "cell_type": "markdown",
   "id": "78208ba5",
   "metadata": {},
   "source": [
    "### Write a Python program to find the first appearance of the substring 'not' and 'poor' from a given string, if 'not' follows the 'poor', replace the whole 'not'...'poor' substring with 'good'. Return the resulting string"
   ]
  },
  {
   "cell_type": "code",
   "execution_count": 10,
   "id": "7d8711c7",
   "metadata": {},
   "outputs": [
    {
     "name": "stdout",
     "output_type": "stream",
     "text": [
      "hellogood\n"
     ]
    }
   ],
   "source": [
    "def replace(my_string):\n",
    "    nott = my_string.find('not')\n",
    "    poor = my_string.find('poor')\n",
    "    if nott != -1 and poor != -1 and nott< poor:\n",
    "        return my_string[:nott] + 'good' + my_string[poor + 4:]\n",
    "    else:\n",
    "        return my_string\n",
    "print(replace('hellonotpoor'))\n"
   ]
  },
  {
   "cell_type": "markdown",
   "id": "7f264574",
   "metadata": {},
   "source": [
    "### Write a Python function to insert a string in the middle of a string."
   ]
  },
  {
   "cell_type": "code",
   "execution_count": 2,
   "id": "f4a4cffe",
   "metadata": {},
   "outputs": [
    {
     "name": "stdout",
     "output_type": "stream",
     "text": [
      "heswadhallo\n"
     ]
    }
   ],
   "source": [
    "def insert(main, ins):\n",
    "    mid = len(main) // 2\n",
    "    return main[:mid] + ins + main[mid:]\n",
    "print(insert('hello', 'swadha'))\n",
    "\n"
   ]
  },
  {
   "cell_type": "markdown",
   "id": "5435ccd0",
   "metadata": {},
   "source": [
    "### reverses a string if its length is a multiple of 4."
   ]
  },
  {
   "cell_type": "code",
   "execution_count": 15,
   "id": "e3554c81",
   "metadata": {},
   "outputs": [
    {
     "name": "stdout",
     "output_type": "stream",
     "text": [
      "risolleh\n"
     ]
    }
   ],
   "source": [
    "def reverse(my_string):\n",
    "    if len(my_string) % 4 == 0:\n",
    "        return my_string[::-1]\n",
    "    else:\n",
    "        return my_string\n",
    "print(reverse('hellosir'))"
   ]
  },
  {
   "cell_type": "markdown",
   "id": "48d8671f",
   "metadata": {},
   "source": [
    "### Write a Python program to get a string made of the first 2 and the last 2 chars from a given a string. If the string length is less than 2, return instead of the empty string."
   ]
  },
  {
   "cell_type": "code",
   "execution_count": 16,
   "id": "b9907390",
   "metadata": {},
   "outputs": [
    {
     "name": "stdout",
     "output_type": "stream",
     "text": [
      "helo\n"
     ]
    }
   ],
   "source": [
    "def test(my_string):\n",
    "    if len(my_string) < 2:\n",
    "        return \"\"\n",
    "    else:\n",
    "        return my_string[:2] + my_string[-2:]\n",
    "print(test('helasdadaslo'))\n"
   ]
  },
  {
   "cell_type": "markdown",
   "id": "f0b39584",
   "metadata": {},
   "source": [
    "### Write a Python program to get a single string from two given strings, separated by a space and swap the first two characters of each string."
   ]
  },
  {
   "cell_type": "code",
   "execution_count": 17,
   "id": "e3e383d3",
   "metadata": {},
   "outputs": [
    {
     "name": "stdout",
     "output_type": "stream",
     "text": [
      "sillo her\n"
     ]
    }
   ],
   "source": [
    "def swp(string1, string2):\n",
    "    new1 = string2[:2] + string1[2:]\n",
    "    new2 = string1[:2] + string2[2:]\n",
    "    return new1 + \" \" + new2\n",
    "print(swp('hello', 'sir'))\n"
   ]
  },
  {
   "cell_type": "markdown",
   "id": "323a62d0",
   "metadata": {},
   "source": [
    "### Write a Python program to get the Fibonacci series of given range."
   ]
  },
  {
   "cell_type": "code",
   "execution_count": 21,
   "id": "057b2df5",
   "metadata": {},
   "outputs": [
    {
     "name": "stdout",
     "output_type": "stream",
     "text": [
      "120\n"
     ]
    }
   ],
   "source": [
    "def factorial(num):\n",
    "    fact = 1\n",
    "    for i in range(1, num+1):\n",
    "        fact *= i\n",
    "    return fact\n",
    "print(factorial(5))\n",
    "\n",
    "        "
   ]
  },
  {
   "cell_type": "markdown",
   "id": "d9013007",
   "metadata": {},
   "source": [
    "### Write a Python program to get the Factorial number of given number"
   ]
  },
  {
   "cell_type": "code",
   "execution_count": 19,
   "id": "da6371ef",
   "metadata": {},
   "outputs": [
    {
     "name": "stdout",
     "output_type": "stream",
     "text": [
      "120\n"
     ]
    }
   ],
   "source": [
    "def factorial(num):\n",
    "    fact = 1\n",
    "    for i in range(1, num+1):\n",
    "        fact *= i\n",
    "    return fact\n",
    "print(factorial(5))\n"
   ]
  },
  {
   "cell_type": "markdown",
   "id": "81819365",
   "metadata": {},
   "source": [
    "### Write a Python program to check if a number is positive, negative or zero"
   ]
  },
  {
   "cell_type": "code",
   "execution_count": 22,
   "id": "fc38fb6e",
   "metadata": {},
   "outputs": [
    {
     "name": "stdout",
     "output_type": "stream",
     "text": [
      "zero\n"
     ]
    }
   ],
   "source": [
    "def check(num):\n",
    "    if num < 0:\n",
    "        return 'negative'\n",
    "    elif num > 0:\n",
    "        return 'positive'\n",
    "    else: \n",
    "        return 'zero'\n",
    "print(check(0))"
   ]
  },
  {
   "cell_type": "markdown",
   "id": "7defed1a",
   "metadata": {},
   "source": [
    "##  How memory is managed in Python?\n"
   ]
  },
  {
   "cell_type": "code",
   "execution_count": 2,
   "id": "4093ff55",
   "metadata": {},
   "outputs": [],
   "source": [
    "#Python manages memory automatically through mechanism  like reference couting And garbage collection reference counting keeps track of object reference,and when the count reaches zero the memory is released.garbage collection helps manage circular references.memory pools are used to allocate memory efficiently,reducing fragmentation. Python optimizes memory usage by reusing objects and employs tools for memory profiling.Developers rarely need to manually allocate or deallocate memory,making Python a user-friendly language in terms of memory management."
   ]
  },
  {
   "cell_type": "code",
   "execution_count": null,
   "id": "0b30663f",
   "metadata": {},
   "outputs": [],
   "source": []
  }
 ],
 "metadata": {
  "kernelspec": {
   "display_name": "Python 3 (ipykernel)",
   "language": "python",
   "name": "python3"
  },
  "language_info": {
   "codemirror_mode": {
    "name": "ipython",
    "version": 3
   },
   "file_extension": ".py",
   "mimetype": "text/x-python",
   "name": "python",
   "nbconvert_exporter": "python",
   "pygments_lexer": "ipython3",
   "version": "3.11.4"
  }
 },
 "nbformat": 4,
 "nbformat_minor": 5
}
